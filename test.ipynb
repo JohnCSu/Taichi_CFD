{
 "cells": [
  {
   "cell_type": "code",
   "execution_count": 1,
   "metadata": {},
   "outputs": [
    {
     "name": "stdout",
     "output_type": "stream",
     "text": [
      "[Taichi] version 1.7.3, llvm 15.0.1, commit 5ec301be, win, python 3.12.4\n",
      "[Taichi] Starting on arch=x64\n"
     ]
    }
   ],
   "source": [
    "import taichi as ti\n",
    "import pyvista as pv\n",
    "import numpy as np\n",
    "from pyvista import CellType\n",
    "ti.init(ti.cpu)"
   ]
  },
  {
   "cell_type": "code",
   "execution_count": null,
   "metadata": {},
   "outputs": [],
   "source": []
  },
  {
   "cell_type": "code",
   "execution_count": 2,
   "metadata": {},
   "outputs": [],
   "source": [
    "class Assembly():\n",
    "    def __init__(self,meshes:dict[str,pv.PolyData]|list[pv.PolyData]|tuple[pv.PolyData]|pv.PolyData,mesh_specification = 'euler') -> None:\n",
    "        self.mesh_specification = mesh_specification\n",
    "        self.meshes = {}\n",
    "        \n",
    "        self.add_meshes(meshes)\n",
    "        self.groups = {}\n",
    "\n",
    "    def add_meshes(self,meshes):\n",
    "        if isinstance(meshes,dict):\n",
    "            for name,mesh in meshes.items():\n",
    "                self.add_mesh(mesh,name)\n",
    "        elif isinstance(meshes,(list,tuple)):\n",
    "            for i,mesh in enumerate(meshes):\n",
    "                self.add_mesh(mesh,f'mesh_{i}')\n",
    "        elif isinstance(meshes,pv.PolyData):\n",
    "                i = len(self.meshes.values())\n",
    "                self.add_mesh(meshes,f'mesh_{i}')\n",
    "\n",
    "    def add_mesh(self,mesh:pv.PolyData,name:str):\n",
    "        assert isinstance(mesh,pv.PolyData)\n",
    "        name = f'{name}-1' if name in self.meshes.keys() else name\n",
    "        self.meshes[name] = mesh \n",
    "\n",
    "\n"
   ]
  },
  {
   "cell_type": "code",
   "execution_count": 3,
   "metadata": {},
   "outputs": [],
   "source": [
    "from src.preprocess import Mesh"
   ]
  },
  {
   "cell_type": "code",
   "execution_count": 4,
   "metadata": {},
   "outputs": [],
   "source": [
    "VALID_FP_DTYPES = {ti.f32,ti.f16,ti.f64}\n",
    "def create_field_output_stuct(*,return_grad = False,**kwargs) -> ti.Struct:\n",
    "    if not kwargs:\n",
    "        kwargs = {'u':ti.math.vec3,'p':ti.f32}\n",
    "    \n",
    "    field_struct = ti.types.struct(**kwargs)\n",
    "\n",
    "\n",
    "    if return_grad:\n",
    "        gradients = {}\n",
    "        for key,val in kwargs.items():\n",
    "            name = f'grad_{key}'\n",
    "            if hasattr(val,'n'):\n",
    "                gradients[name] =  ti.types.matrix(val.n,3,dtype=val.dtype)\n",
    "            else:\n",
    "                assert val in VALID_FP_DTYPES\n",
    "                gradients[name] = ti.types.matrix(1,3,dtype=val)\n",
    "                \n",
    "\n",
    "        gradient_struct = ti.types.struct(**gradients)\n",
    "        return field_struct,gradient_struct\n",
    "\n",
    "\n",
    "\n",
    "    return field_struct\n",
    "\n",
    "fields = create_field_output_stuct(return_grad=True)\n"
   ]
  },
  {
   "cell_type": "code",
   "execution_count": 5,
   "metadata": {},
   "outputs": [
    {
     "data": {
      "text/plain": [
       "3"
      ]
     },
     "execution_count": 5,
     "metadata": {},
     "output_type": "execute_result"
    }
   ],
   "source": [
    "fields[1].members['grad_u'].n"
   ]
  },
  {
   "cell_type": "code",
   "execution_count": 6,
   "metadata": {},
   "outputs": [
    {
     "data": {
      "text/plain": [
       "array([1., 1.], dtype=float32)"
      ]
     },
     "execution_count": 6,
     "metadata": {},
     "output_type": "execute_result"
    }
   ],
   "source": [
    "x = fields[0](u=[1,1,1],p = 1)\n",
    "\n",
    "x['u'][0:2]"
   ]
  },
  {
   "cell_type": "code",
   "execution_count": 7,
   "metadata": {},
   "outputs": [],
   "source": [
    "\n",
    "def create_FVM_cell(num_nodes:int,num_faces:int,float_dtype = ti.f32):\n",
    "    face_array_ids = ti.types.vector(num_faces,int)\n",
    "    face_array_float = ti.types.vector(num_faces,float_dtype)\n",
    "    face_array_vector = ti.types.matrix(num_faces,3,float_dtype)\n",
    "\n",
    "    node_array_ids = ti.types.vector(num_nodes,dtype=float_dtype)\n",
    "     \n",
    "    centroid_vector = ti.types.vector(3,dtype=float_dtype)\n",
    "\n",
    "\n",
    "    @ti.dataclass\n",
    "    class Cell():\n",
    "        '''\n",
    "        Stores predefined information such as neighbors, nodes, face normals etc into a convienent struct\n",
    "        '''\n",
    "        id:int\n",
    "        nodes: node_array_ids\n",
    "        centroid:centroid_vector # (3,)\n",
    "        faces: face_array_ids\n",
    "        face_normals: face_array_vector\n",
    "        faces_area: face_array_float\n",
    "        neighbor_ids: face_array_ids # Use -1 for no neighbor\n",
    "        neighbor_distance: face_array_float\n",
    "        volume:float_dtype\n",
    "    return Cell\n",
    "\n",
    "\n",
    "\n",
    "c = create_FVM_cell(8,6)\n",
    "\n",
    "\n",
    "a = c()\n",
    "\n",
    "\n"
   ]
  },
  {
   "cell_type": "code",
   "execution_count": 8,
   "metadata": {},
   "outputs": [],
   "source": [
    "    \n",
    "\n",
    "a= ti.math.mat3([[1,2,3],[1,2,3],[1,2,3]])"
   ]
  },
  {
   "cell_type": "code",
   "execution_count": 9,
   "metadata": {},
   "outputs": [
    {
     "data": {
      "text/plain": [
       "[[ 3.  6.  9.]\n",
       " [ 4.  8. 12.]\n",
       " [ 6. 12. 18.]]"
      ]
     },
     "execution_count": 9,
     "metadata": {},
     "output_type": "execute_result"
    }
   ],
   "source": [
    "x = ti.math.vec3([1,2,3])\n",
    "y = ti.math.vec3([3,4,6])\n",
    "\n",
    "\n",
    "x.outer_product(y).transpose()"
   ]
  },
  {
   "cell_type": "code",
   "execution_count": null,
   "metadata": {},
   "outputs": [],
   "source": []
  },
  {
   "cell_type": "code",
   "execution_count": 11,
   "metadata": {},
   "outputs": [],
   "source": [
    "mesh = pv.read('1_0.vtm')['internal']\n",
    "\n",
    "mesh = mesh.extract_cells([0,1,2,3,4,5])\n",
    "m = Mesh(mesh)"
   ]
  },
  {
   "cell_type": "code",
   "execution_count": 31,
   "metadata": {},
   "outputs": [
    {
     "data": {
      "text/plain": [
       "array([[ 1, 15, 22,  8,  0, 14, 21,  7],\n",
       "       [ 2, 16, 23,  9,  1, 15, 22,  8],\n",
       "       [ 3, 17, 24, 10,  2, 16, 23,  9],\n",
       "       [ 4, 18, 25, 11,  3, 17, 24, 10],\n",
       "       [ 5, 19, 26, 12,  4, 18, 25, 11],\n",
       "       [ 6, 20, 27, 13,  5, 19, 26, 12]])"
      ]
     },
     "execution_count": 31,
     "metadata": {},
     "output_type": "execute_result"
    }
   ],
   "source": [
    "m.cells"
   ]
  },
  {
   "cell_type": "code",
   "execution_count": null,
   "metadata": {},
   "outputs": [
    {
     "data": {
      "text/plain": [
       "array([[ 5,  2,  1, 25, 19,  0],\n",
       "       [ 8,  5,  4, 26, 20,  3],\n",
       "       [11,  8,  7, 27, 21,  6],\n",
       "       [14, 11, 10, 28, 22,  9],\n",
       "       [17, 14, 13, 29, 23, 12],\n",
       "       [18, 17, 16, 30, 24, 15]])"
      ]
     },
     "execution_count": 28,
     "metadata": {},
     "output_type": "execute_result"
    }
   ],
   "source": []
  },
  {
   "cell_type": "code",
   "execution_count": 29,
   "metadata": {},
   "outputs": [
    {
     "data": {
      "text/plain": [
       "(array([-24.875     ,  -9.66666651,   0.        ]),\n",
       " array([ 1, 15, 22,  8,  0, 14, 21,  7]),\n",
       " array([-24.75    ,  -9.666666,   0.      ], dtype=float32))"
      ]
     },
     "execution_count": 29,
     "metadata": {},
     "output_type": "execute_result"
    }
   ],
   "source": [
    "x = m.cell_centroids[0]\n",
    "\n",
    "x,m.cells[0],m.faces.centroid[5]"
   ]
  },
  {
   "cell_type": "code",
   "execution_count": 21,
   "metadata": {},
   "outputs": [
    {
     "data": {
      "text/plain": [
       "array([1.25000000e-01, 4.76837158e-07, 0.00000000e+00])"
      ]
     },
     "execution_count": 21,
     "metadata": {},
     "output_type": "execute_result"
    }
   ],
   "source": [
    "m.faces.cell_centroid_to_face_centroid[0,0]"
   ]
  },
  {
   "cell_type": "code",
   "execution_count": 30,
   "metadata": {},
   "outputs": [
    {
     "data": {
      "text/plain": [
       "array([1.25000000e-01, 4.76837158e-07, 0.00000000e+00])"
      ]
     },
     "execution_count": 30,
     "metadata": {},
     "output_type": "execute_result"
    }
   ],
   "source": [
    "m.faces.centroid[5] - x"
   ]
  },
  {
   "cell_type": "code",
   "execution_count": 13,
   "metadata": {},
   "outputs": [],
   "source": [
    "m.set_boundary_value(0,u = 1,v = 2,w = 3.3,p = 2)"
   ]
  },
  {
   "cell_type": "code",
   "execution_count": 63,
   "metadata": {},
   "outputs": [
    {
     "name": "stdout",
     "output_type": "stream",
     "text": [
      "[Taichi] Starting on arch=x64\n"
     ]
    }
   ],
   "source": [
    "FVM = taichi_unstrucutred_mesh(m)"
   ]
  },
  {
   "cell_type": "code",
   "execution_count": 64,
   "metadata": {},
   "outputs": [
    {
     "data": {
      "text/plain": [
       "((), 3, (6, 6))"
      ]
     },
     "execution_count": 64,
     "metadata": {},
     "output_type": "execute_result"
    }
   ],
   "source": [
    "FVM.cell_centroids.shape,FVM.cell_centroids.n, FVM.cells.shape"
   ]
  },
  {
   "cell_type": "code",
   "execution_count": null,
   "metadata": {},
   "outputs": [
    {
     "ename": "TaichiIndexError",
     "evalue": "\nFile \"C:\\Users\\John Su\\AppData\\Local\\Temp\\ipykernel_5416\\3284264371.py\", line 126, in initial_face_interpolate:\n            centroid_n = self.cell_centroids[C_n]\n                         ^^^^^^^^^^^^^^^^^^^^^^^^\nField with dim 0 accessed with indices of dim 1",
     "output_type": "error",
     "traceback": [
      "\u001b[1;31m---------------------------------------------------------------------------\u001b[0m",
      "\u001b[1;31mTaichiIndexError\u001b[0m                          Traceback (most recent call last)",
      "Cell \u001b[1;32mIn[17], line 1\u001b[0m\n\u001b[1;32m----> 1\u001b[0m \u001b[43mFVM\u001b[49m\u001b[38;5;241;43m.\u001b[39;49m\u001b[43mstep\u001b[49m\u001b[43m(\u001b[49m\u001b[43m)\u001b[49m\n",
      "Cell \u001b[1;32mIn[12], line 103\u001b[0m, in \u001b[0;36mtaichi_unstrucutred_mesh.step\u001b[1;34m(self)\u001b[0m\n\u001b[0;32m     99\u001b[0m \u001b[38;5;250m\u001b[39m\u001b[38;5;124;03m'''\u001b[39;00m\n\u001b[0;32m    100\u001b[0m \u001b[38;5;124;03mPerforms a single iteration\u001b[39;00m\n\u001b[0;32m    101\u001b[0m \u001b[38;5;124;03m'''\u001b[39;00m\n\u001b[0;32m    102\u001b[0m \u001b[38;5;28mself\u001b[39m\u001b[38;5;241m.\u001b[39mapply_BC()\n\u001b[1;32m--> 103\u001b[0m \u001b[38;5;28;43mself\u001b[39;49m\u001b[38;5;241;43m.\u001b[39;49m\u001b[43minitial_face_interpolate\u001b[49m\u001b[43m(\u001b[49m\u001b[43m)\u001b[49m\n\u001b[0;32m    104\u001b[0m \u001b[38;5;28mself\u001b[39m\u001b[38;5;241m.\u001b[39mget_gradients()\n",
      "File \u001b[1;32me:\\py312_torch_2-5\\Lib\\site-packages\\taichi\\lang\\kernel_impl.py:1178\u001b[0m, in \u001b[0;36m_BoundedDifferentiableMethod.__call__\u001b[1;34m(self, *args, **kwargs)\u001b[0m\n\u001b[0;32m   1176\u001b[0m \u001b[38;5;28;01mif\u001b[39;00m impl\u001b[38;5;241m.\u001b[39mget_runtime()\u001b[38;5;241m.\u001b[39mprint_full_traceback:\n\u001b[0;32m   1177\u001b[0m     \u001b[38;5;28;01mraise\u001b[39;00m e\n\u001b[1;32m-> 1178\u001b[0m \u001b[38;5;28;01mraise\u001b[39;00m \u001b[38;5;28mtype\u001b[39m(e)(\u001b[38;5;124m\"\u001b[39m\u001b[38;5;130;01m\\n\u001b[39;00m\u001b[38;5;124m\"\u001b[39m \u001b[38;5;241m+\u001b[39m \u001b[38;5;28mstr\u001b[39m(e)) \u001b[38;5;28;01mfrom\u001b[39;00m\u001b[38;5;250m \u001b[39m\u001b[38;5;28;01mNone\u001b[39;00m\n",
      "\u001b[1;31mTaichiIndexError\u001b[0m: \nFile \"C:\\Users\\John Su\\AppData\\Local\\Temp\\ipykernel_5416\\3284264371.py\", line 126, in initial_face_interpolate:\n            centroid_n = self.cell_centroids[C_n]\n                         ^^^^^^^^^^^^^^^^^^^^^^^^\nField with dim 0 accessed with indices of dim 1"
     ]
    }
   ],
   "source": []
  }
 ],
 "metadata": {
  "kernelspec": {
   "display_name": "py312_torch_2-5",
   "language": "python",
   "name": "python3"
  },
  "language_info": {
   "codemirror_mode": {
    "name": "ipython",
    "version": 3
   },
   "file_extension": ".py",
   "mimetype": "text/x-python",
   "name": "python",
   "nbconvert_exporter": "python",
   "pygments_lexer": "ipython3",
   "version": "3.12.4"
  }
 },
 "nbformat": 4,
 "nbformat_minor": 2
}
